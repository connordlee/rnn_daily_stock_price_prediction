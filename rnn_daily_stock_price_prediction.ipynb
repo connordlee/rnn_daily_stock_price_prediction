{
 "cells": [
  {
   "cell_type": "markdown",
   "metadata": {},
   "source": [
    "***\n",
    "# Developing an RNN to Predict TD's Stock Price Given Historical Economic and Competitor Data\n",
    "Author: Connor Lee\n",
    "***\n",
    "## Project Description\n",
    "The primary goal of this project was to develop my first recurrent neural network (RNN) through developing an RNN that predicts the stock price of TD. The learning objectives from this project were the following:\n",
    "* Learn how to develop an RNN that uses data from multiple sources\n",
    "* Learn how to implement cross validation with a neural network\n",
    "\n",
    "The idea behind using an RNN to predict stock price is to identify historical patterns of how the stock price relates to historical data from various sources that affect, or are related to the stock of interest's price, and use these patterns to predict the price of the stock in the future. The historical data that will be used to predict the stock price are listed below along with links to the datasets:\n",
    "\n",
    "* [TD daily stock price and trading volume](https://ca.finance.yahoo.com/quote/TD.TO/history?period1=953769600&period2=1586476800&interval=1d&filter=history&frequency=1d)\n",
    "* [Daily price of crude oil](https://ca.finance.yahoo.com/quote/CL%3DF/history?period1=953596800&period2=1586563200&interval=1d&filter=history&frequency=1d)\n",
    "    * The Canadian economy, and therefore Canadian banks, depends heavily on the price of oil\n",
    "* [Daily price of the S&P/TSX index](https://ca.finance.yahoo.com/quote/%5EGSPTSE/history?p=^GSPTSE&.tsrc=fin-srch)\n",
    "    * As the second largest bank in Canada it does a good deal of lending to Canadian companies, so the performance of the Toronto Stock Exchange is likely to affect the banks stock price greatly\n",
    "* Daily pricing of competitors (Canadian, US, and European)\n",
    "    * Competing companies within the same industry are likely to experience similar price movement trends, as a result it is often possible to gain an understanding of how a companies price will move through observing the prices of its competitors\n",
    "    * [The other Canadian big 5 banks](https://en.wikipedia.org/wiki/Banking_in_Canada#%22Big_Five%22_banks) \n",
    "        * [Royal Bank of Canada (RY.TO)](https://ca.finance.yahoo.com/quote/RY.TO/history?period1=953769600&period2=1586476800&interval=1d&filter=history&frequency=1d)\n",
    "        * [The Bank of Nova Scotia (BNS.TO)](https://ca.finance.yahoo.com/quote/BNS.TO/history?period1=953769600&period2=1586476800&interval=1d&filter=history&frequency=1d)\n",
    "        * [Bank of Montreal (BMO.TO)](https://ca.finance.yahoo.com/quote/BMO.TO/history?period1=953769600&period2=1586476800&interval=1d&filter=history&frequency=1d)\n",
    "        * [Canadian Imperial Bank of Commerce (CM.TO)](https://ca.finance.yahoo.com/quote/CM.TO/history?period1=953769600&period2=1586476800&interval=1d&filter=history&frequency=1d)\n",
    "    * [The top 3 US banks](https://disfold.com/top-us-banks/) \n",
    "        * [Bank of America Corporation (BAC)](https://ca.finance.yahoo.com/quote/BAC/history?period1=953769600&period2=1586476800&interval=1d&filter=history&frequency=1d)\n",
    "        * [JPMorgan Chase & Co. (JPM)](https://ca.finance.yahoo.com/quote/JPM/history?period1=953769600&period2=1586476800&interval=1d&filter=history&frequency=1d)\n",
    "        * [Wells Fargo & Company (WFC)](https://ca.finance.yahoo.com/quote/WFC/history?period1=953769600&period2=1586476800&interval=1d&filter=history&frequency=1d)\n",
    "    * [The top 3 European banks](https://www.statista.com/statistics/273806/european-banks-with-the-most-valuable-brands/) \n",
    "        * [HSBC Holdings plc (HSBC)](https://ca.finance.yahoo.com/quote/HSBC/history?period1=953769600&period2=1586476800&interval=1d&filter=history&frequency=1d)\n",
    "        * [Banco Santander, S.A. (SAN)](https://ca.finance.yahoo.com/quote/SAN/history?period1=953769600&period2=1586476800&interval=1d&filter=history&frequency=1d)\n",
    "        * [BNP Paribas SA (BNP.PA)](https://ca.finance.yahoo.com/quote/BNP.PA/history?period1=953769600&period2=1586476800&interval=1d&filter=history&frequency=1d)\n",
    "* The exchange rates between Canadian Dollar (CAD) and the [5 most traded curencies](https://en.wikipedia.org/wiki/Currency_pair#Base_currency) as of April 2019\n",
    "    * Since TD is Canada's 2nd largest bank it’s performance likely depends greatly on the performance of the Canadian Dollar\n",
    "    * [United States dollar (USD)](https://ca.investing.com/currencies/cad-usd-historical-data)\n",
    "    * [Euro (EUR)](https://ca.investing.com/currencies/cad-eur-historical-data)\n",
    "    * [Japanese yen (JPY)](https://ca.investing.com/currencies/cad-jpy-historical-data)\n",
    "    * [Pound sterling (GBP)](https://ca.investing.com/currencies/cad-gbp-historical-data)\n",
    "    * [Australian dollar (AUD)](https://ca.investing.com/currencies/cad-aud-historical-data)\n",
    "\n",
    "The RNN for this project will use 15 years of data (from 2000-03-22 through 2015-04-09) and then will be tested on 5 years of data (from 2015-04-10 through 2020-04-09). The actual prices and predicted prices will then be plotted together in order to observe the RNN's ability to predict the stock price given the historical data.\n",
    "\n",
    "## Data Preparation\n",
    "The first step is to impor the required libaries, which is done in the following code chunk."
   ]
  },
  {
   "cell_type": "code",
   "execution_count": 1,
   "metadata": {},
   "outputs": [],
   "source": [
    "# Library Imports\n",
    "# Library used in data importing process\n",
    "import os\n",
    "\n",
    "# Libraries for data manipulation\n",
    "import numpy as np\n",
    "import pandas as pd\n",
    "from sklearn.preprocessing import MinMaxScaler\n",
    "\n",
    "# TensorFlow imports for creating the RNN\n",
    "from tensorflow.keras.models import Sequential\n",
    "from tensorflow.keras.layers import Dense\n",
    "from tensorflow.keras.layers import LSTM\n",
    "from tensorflow.keras.layers import Dropout\n",
    "from tensorflow.keras import optimizers\n",
    "\n",
    "# TensorFlow and scikit-learn imports for cross validation of RNN\n",
    "from tensorflow.keras.wrappers.scikit_learn import KerasRegressor\n",
    "from sklearn.model_selection import GridSearchCV\n",
    "\n",
    "# Library for visualization\n",
    "import matplotlib.pyplot as plt"
   ]
  },
  {
   "cell_type": "markdown",
   "metadata": {},
   "source": [
    "Once all of the required libraries have been imported we can read in the training and testing data. The data is stored seperately as testing and training data due to limitaitons when downloading the data from some of the websites. Some of the sites required that the data be downloaded in 2 seperate batches because of this download size limitation it was more efficient to download the training and testing sets seperately. This incidentally made it easier to read in the training and testing sets seperately and then concatenate them together for when we get to predicting the test set. Another point of interest is that the required data was stored in eiter the 0th column (the currency exchange data), or the 3rd column (the remaining data), this is because the currency data was all collected from Investing.com, while the remaining data was collected from yahoo! finance.\n",
    "\n",
    "The two for loops for reading in the data are identical other than the fact that they are reading in different datasets. They both contain the following:\n",
    "* An if statement for setting the indexing range if the current file contains currency data\n",
    "* An if statement for setting the indexing range if the current file does not contain currency data\n",
    "* An if satement for if the current iteration is the first iteration\n",
    "* An if statement for if the current file is the company we are predicting for\n",
    "\n",
    "Once the required information from each file has been stored in the appropriate dataframe the two dataframes are concatenated together and any missing data is filled using the `fillna()` function and the forward fill method. The forward fill method was decided upon as it was found from some looking at the structure of the data that there were very few missing values, from experience working with financial data the price differences from one day to the next are typically relatively small, so the occasional day where there is no change in a small portion of the values is unlikely to have a noticable effect on the overall model. The fully combined dataset will not be used until we are testing the model fit, however it was completed at this stage since it was deamed simpler to perform all the data preparation at the same time."
   ]
  },
  {
   "cell_type": "code",
   "execution_count": 2,
   "metadata": {},
   "outputs": [],
   "source": [
    "# Storing company ticker to make it easy to change company being predicted for (ex. could change to RY and predict for RY instead of TD)\n",
    "company = 'td'\n",
    "# Path to the testing data\n",
    "path = 'test_data/'\n",
    "# Variable for handeling the first iteration in the for loop\n",
    "isFirst = True\n",
    "# For loop to read and store the appropriate columns from the different data files in a datafame\n",
    "for file in sorted(os.listdir(path)):\n",
    "    if 'cad' in file:\n",
    "    # Case for the exchange rate files\n",
    "        idx0 = 0\n",
    "        idx1 = 1\n",
    "    else:\n",
    "    # Case for the rest of the files\n",
    "        idx0 = 3\n",
    "        idx1 = 4\n",
    "    if isFirst == True and file != company+'_test.csv':\n",
    "    # Case for the first iteration\n",
    "        add_test = pd.read_csv(path+file, index_col=0).iloc[:, idx0:idx1]\n",
    "        isFirst = False\n",
    "    if file != company+'_test.csv':\n",
    "    # Case for if the current file corresponds to the company that we are predicting for (skipped here b/c accounted for later)\n",
    "        add_test = pd.concat([add_test, pd.read_csv(path+file, index_col=0).iloc[:, idx0:idx1]], join=\"inner\", axis=1)\n",
    "\n",
    "# Pat to the training data\n",
    "path = 'training_data/'\n",
    "# Variable for handeling the first iteration in the for loop\n",
    "isFirst = True\n",
    "# For loop to read and store the appropriate columns from the different data files in a datafame\n",
    "for file in sorted(os.listdir(path)):\n",
    "    if 'cad' in file:\n",
    "    # Case for the exchange rate files\n",
    "        idx0 = 0\n",
    "        idx1 = 1\n",
    "    else:\n",
    "    # Case for the rest of the files\n",
    "        idx0 = 3\n",
    "        idx1 = 4\n",
    "    if isFirst == True and file != company+'_train.csv':\n",
    "    # Case for the first iteration\n",
    "        add_train = pd.read_csv(path+file, index_col=0).iloc[:, idx0:idx1]\n",
    "        isFirst = False\n",
    "    if file != company+'_train.csv':\n",
    "    # Case for if the current file corresponds to the company that we are predicting for (skipped here b/c accounted for later)\n",
    "        add_train = pd.concat([add_train, pd.read_csv(path+file, index_col=0).iloc[:, idx0:idx1]], join=\"inner\", axis=1)\n",
    "\n",
    "# Concatenating all data into one dataframe for use during the fitting process\n",
    "add_all = pd.concat([add_train, add_test], axis=0)\n",
    "add_all.fillna(method='ffill', inplace=True)"
   ]
  },
  {
   "cell_type": "markdown",
   "metadata": {},
   "source": [
    "The next step is to import the training data for the company that we are trying to predict for, and concatenating the training data previously collected to it, this ensures that the pricing and trading volume for the company we are predicting for are always in the first two columns of the dataframe. We then convert the training_set dataframe to a numpy array as the required input for the function we will use for feature scaling, and for the LSTM layers in Keras are numpy arrays."
   ]
  },
  {
   "cell_type": "code",
   "execution_count": 3,
   "metadata": {},
   "outputs": [],
   "source": [
    "# Importing the training set\n",
    "dataset_train = pd.read_csv('training_data/'+company+'_train.csv', index_col=0)\n",
    "training_set = pd.concat([dataset_train.iloc[:, np.r_[3:4,5:6]], add_train], join='inner', axis=1)\n",
    "training_set.fillna(method='ffill', inplace=True)\n",
    "training_set = training_set.values"
   ]
  },
  {
   "cell_type": "markdown",
   "metadata": {},
   "source": [
    "The next step is to scale the dataset so that the magnitudes of the different values don't result in any one column dominating the predictions (for example the price of the TSX index is much larger than any of the exchange rates). We will use the `MinMaxScaler()` function from scikit-learn to scale the data so that it ranges from 0 to 1."
   ]
  },
  {
   "cell_type": "code",
   "execution_count": 4,
   "metadata": {},
   "outputs": [],
   "source": [
    "# Feature Scaling\n",
    "## Creating scalar object\n",
    "sc = MinMaxScaler(feature_range=(0,1))\n",
    "## Scaling training set\n",
    "training_set_scaled = sc.fit_transform(training_set)"
   ]
  },
  {
   "cell_type": "markdown",
   "metadata": {},
   "source": [
    "Now that the data has been scaled we can set the LSTM memory range (or timestep) by storing vectors of data for the last 80 days (found to provide the best performance through testing various different values) and storing them for each day to be trained on. This is done so that the LSTM layers can go through the array row by row and easily access the last 80 days of data. The data is broken into x_train (predictor variables) and y_train (response) so that the predictor variables and response values can be easily passed into the RNN. Finally the x_train array is reshaped into a shape that the RNN can accept."
   ]
  },
  {
   "cell_type": "code",
   "execution_count": 5,
   "metadata": {},
   "outputs": [],
   "source": [
    "# Creating a data structure with timestep timesteps and 1 output\n",
    "timestep = 80 # The number of days in the past to include in the prediction (found through testing various different values)\n",
    "x_train = []\n",
    "y_train = []\n",
    "# For loop to append the last 80 days worth of data to each row of the training numpy arrays\n",
    "for i in range(timestep, len(training_set_scaled)):\n",
    "    x_train.append(training_set_scaled[i-timestep:i, :])\n",
    "    y_train.append(training_set_scaled[i,0])\n",
    "\n",
    "# Converting the lists to numpy arrays\n",
    "x_train = np.array(x_train)\n",
    "y_train = np.array(y_train)\n",
    "\n",
    "# Reshaping the x_train data\n",
    "x_train = np.reshape(x_train, (x_train.shape[0], x_train.shape[1], x_train.shape[2])) "
   ]
  },
  {
   "cell_type": "markdown",
   "metadata": {},
   "source": [
    "## Cross Validating RNN parameters\n",
    "Now that the data has been prepared in a manner that it can be passed into an RNN we can build an RNN using a Sequential model with a combination of LSTM, Dropout, and Dense layers. The number of LSTM layers, Dense Layers, units in the LSTM layers, and dropout rate were all found from testing various models. The mean squared error (MSE) was selected as the loss function since it is the generally accepted standard loss function for regression problems like this, and there is no reason to believe that the data has any underlying characteristics that indicate that the MSE shouldn't be used.\n",
    "\n",
    "The remaining parameters including batch size, number of epochs, and the optimizer selected for the final configuraiton were identified using cross validation by implementing the `GridSearchCV()` function from scikit-learn. Cross validation is an extremely usefull way to test your model as it does a better job of estimating long run MSE than just using a training and test set, however it can be computationally intensive for large datasets as it consists of fitting the model multiple times. Five fold cross validation was chosen for this project over the typical ten fold cross validation in the interest of time since ten fold cross validation takes twice as long as five fold cross validation. The cross validation setup used for this project is shown below, however it is recommended that the following code chunk not be run as is since `GridSearchCV()` will run five iterations of each possible combination of parameters shown below which will take an extremely long time to run. Please note that cell type of the following two cells have been changed to 'Raw' so that they are not accidentally run, to run the code in them they need to be changed to 'Code'."
   ]
  },
  {
   "cell_type": "raw",
   "metadata": {},
   "source": [
    "def build_regressor(optimizer):\n",
    "    regressor = Sequential()\n",
    "    regressor.add(LSTM(units=75, return_sequences=True, input_shape=(x_train.shape[1], x_train.shape[2])))\n",
    "    regressor.add(Dropout(rate=0.2))\n",
    "    regressor.add(LSTM(units=75, return_sequences=True))\n",
    "    regressor.add(Dropout(rate=0.2))\n",
    "    regressor.add(LSTM(units=75))\n",
    "    regressor.add(Dropout(rate=0.2))\n",
    "    regressor.add(Dense(units=1))\n",
    "    regressor.compile(optimizer=optimizer, loss='mean_squared_error') # keras recommends using the rmsprop optimizer, from experimentation it was found that Adam is better in this situation\n",
    "    return regressor\n",
    "\n",
    "regressor = KerasRegressor(build_fn=build_regressor)\n",
    "\n",
    "# ~ Setting up grid search ~ #\n",
    "# Setting up parameters to perform grid search on\n",
    "parameters = {'batch_size':[8, 16, 32, 64],\n",
    "              'epochs':[25,35,45, 75],\n",
    "             'optimizer':['adam', 'rmsprop', 'nadam', 'adamax']} # The GridSearchCV doesn't allow different optimizer configurations\n",
    "# Setting up the grid search object to run on our classifier and parameters with 5-fold cv\n",
    "grid_search = GridSearchCV(estimator = regressor,\n",
    "                          param_grid = parameters,\n",
    "                          scoring = 'neg_mean_squared_error',\n",
    "                          cv = 5)\n",
    "# fitting the grid search object\n",
    "grid_search = grid_search.fit(x_train, y_train)\n",
    "best_parameters = grid_search.best_params_\n",
    "best_mse = grid_search.best_score_"
   ]
  },
  {
   "cell_type": "markdown",
   "metadata": {},
   "source": [
    "The following code chunk will display the best parameter configuration and the best MSE found by the `GridSearchCV()` function in the above code chunk."
   ]
  },
  {
   "cell_type": "raw",
   "metadata": {},
   "source": [
    "print(\"Best Parameters: \", best_parameters)\n",
    "print(\"Best MSE: \", best_mse)"
   ]
  },
  {
   "cell_type": "markdown",
   "metadata": {},
   "source": [
    "The output of the best parameters isn't shown above due to the amount of time it takes to run the cross validation, however the best parameter configuraiton found is shown below:\n",
    "* Batch Size: 32\n",
    "* Epochs: 45\n",
    "* Optimizer: Adam"
   ]
  },
  {
   "cell_type": "markdown",
   "metadata": {},
   "source": [
    "# Building and Fitting the RNN with Optimal Parameters\n",
    "Now that the optimal parameters have been identified we can use these parameters to build and fit an RNN that has been optimized for this data that we can then use to predict the TD stock price."
   ]
  },
  {
   "cell_type": "code",
   "execution_count": 6,
   "metadata": {},
   "outputs": [],
   "source": [
    "# Initializing the RNN\n",
    "regressor = Sequential()\n",
    "\n",
    "# Adding LSTM and Dropout regularization layers\n",
    "regressor.add(LSTM(units=75, return_sequences=True, input_shape=(x_train.shape[1], x_train.shape[2])))\n",
    "regressor.add(Dropout(rate=0.2))\n",
    "regressor.add(LSTM(units=75, return_sequences=True))\n",
    "regressor.add(Dropout(rate=0.2))\n",
    "regressor.add(LSTM(units=75))\n",
    "regressor.add(Dropout(rate=0.2))\n",
    "\n",
    "# Adding the output layer\n",
    "regressor.add(Dense(units=1))\n",
    "\n",
    "# Compiling the RNN\n",
    "regressor.compile(optimizer='adam', loss='mean_squared_error')"
   ]
  },
  {
   "cell_type": "code",
   "execution_count": 7,
   "metadata": {},
   "outputs": [
    {
     "name": "stdout",
     "output_type": "stream",
     "text": [
      "Train on 3633 samples\n",
      "Epoch 1/45\n",
      "3633/3633 [==============================] - 12s 3ms/sample - loss: 0.0089\n",
      "Epoch 2/45\n",
      "3633/3633 [==============================] - 9s 2ms/sample - loss: 0.0026\n",
      "Epoch 3/45\n",
      "3633/3633 [==============================] - 9s 2ms/sample - loss: 0.0021\n",
      "Epoch 4/45\n",
      "3633/3633 [==============================] - 9s 2ms/sample - loss: 0.0022\n",
      "Epoch 5/45\n",
      "3633/3633 [==============================] - 9s 2ms/sample - loss: 0.0018\n",
      "Epoch 6/45\n",
      "3633/3633 [==============================] - 9s 2ms/sample - loss: 0.0019\n",
      "Epoch 7/45\n",
      "3633/3633 [==============================] - 9s 2ms/sample - loss: 0.0018\n",
      "Epoch 8/45\n",
      "3633/3633 [==============================] - 9s 2ms/sample - loss: 0.0017\n",
      "Epoch 9/45\n",
      "3633/3633 [==============================] - 9s 2ms/sample - loss: 0.0015\n",
      "Epoch 10/45\n",
      "3633/3633 [==============================] - 9s 2ms/sample - loss: 0.0015\n",
      "Epoch 11/45\n",
      "3633/3633 [==============================] - 9s 2ms/sample - loss: 0.0015\n",
      "Epoch 12/45\n",
      "3633/3633 [==============================] - 9s 2ms/sample - loss: 0.0013\n",
      "Epoch 13/45\n",
      "3633/3633 [==============================] - 9s 2ms/sample - loss: 0.0013\n",
      "Epoch 14/45\n",
      "3633/3633 [==============================] - 9s 2ms/sample - loss: 0.0014\n",
      "Epoch 15/45\n",
      "3633/3633 [==============================] - 9s 2ms/sample - loss: 0.0012\n",
      "Epoch 16/45\n",
      "3633/3633 [==============================] - 9s 2ms/sample - loss: 0.0012\n",
      "Epoch 17/45\n",
      "3633/3633 [==============================] - 9s 2ms/sample - loss: 0.0013\n",
      "Epoch 18/45\n",
      "3633/3633 [==============================] - 9s 2ms/sample - loss: 0.0011\n",
      "Epoch 19/45\n",
      "3633/3633 [==============================] - 9s 2ms/sample - loss: 0.0011\n",
      "Epoch 20/45\n",
      "3633/3633 [==============================] - 9s 2ms/sample - loss: 0.0011\n",
      "Epoch 21/45\n",
      "3633/3633 [==============================] - 9s 2ms/sample - loss: 9.3423e-04\n",
      "Epoch 22/45\n",
      "3633/3633 [==============================] - 9s 2ms/sample - loss: 9.7860e-04\n",
      "Epoch 23/45\n",
      "3633/3633 [==============================] - 9s 2ms/sample - loss: 9.5136e-04\n",
      "Epoch 24/45\n",
      "3633/3633 [==============================] - 9s 2ms/sample - loss: 9.3330e-04\n",
      "Epoch 25/45\n",
      "3633/3633 [==============================] - 9s 2ms/sample - loss: 0.0010\n",
      "Epoch 26/45\n",
      "3633/3633 [==============================] - 9s 2ms/sample - loss: 9.9231e-04\n",
      "Epoch 27/45\n",
      "3633/3633 [==============================] - 10s 3ms/sample - loss: 8.7258e-04\n",
      "Epoch 28/45\n",
      "3633/3633 [==============================] - 9s 2ms/sample - loss: 0.0010\n",
      "Epoch 29/45\n",
      "3633/3633 [==============================] - 9s 2ms/sample - loss: 8.4730e-04\n",
      "Epoch 30/45\n",
      "3633/3633 [==============================] - 9s 2ms/sample - loss: 7.6935e-04\n",
      "Epoch 31/45\n",
      "3633/3633 [==============================] - 9s 2ms/sample - loss: 7.6731e-04\n",
      "Epoch 32/45\n",
      "3633/3633 [==============================] - 9s 2ms/sample - loss: 8.6706e-04\n",
      "Epoch 33/45\n",
      "3633/3633 [==============================] - 9s 2ms/sample - loss: 7.7020e-04\n",
      "Epoch 34/45\n",
      "3633/3633 [==============================] - 9s 2ms/sample - loss: 7.8291e-04\n",
      "Epoch 35/45\n",
      "3633/3633 [==============================] - 9s 2ms/sample - loss: 7.0645e-04\n",
      "Epoch 36/45\n",
      "3633/3633 [==============================] - 9s 2ms/sample - loss: 7.0575e-04\n",
      "Epoch 37/45\n",
      "3633/3633 [==============================] - 9s 2ms/sample - loss: 7.1350e-04\n",
      "Epoch 38/45\n",
      "3633/3633 [==============================] - 9s 2ms/sample - loss: 8.5123e-04\n",
      "Epoch 39/45\n",
      "3633/3633 [==============================] - 9s 2ms/sample - loss: 7.2178e-04\n",
      "Epoch 40/45\n",
      "3633/3633 [==============================] - 9s 2ms/sample - loss: 6.7983e-04\n",
      "Epoch 41/45\n",
      "3633/3633 [==============================] - 9s 2ms/sample - loss: 6.4708e-04\n",
      "Epoch 42/45\n",
      "3633/3633 [==============================] - 9s 2ms/sample - loss: 6.4965e-04\n",
      "Epoch 43/45\n",
      "3633/3633 [==============================] - 9s 2ms/sample - loss: 6.7480e-04\n",
      "Epoch 44/45\n",
      "3633/3633 [==============================] - 9s 2ms/sample - loss: 6.6796e-04\n",
      "Epoch 45/45\n",
      "3633/3633 [==============================] - 9s 2ms/sample - loss: 6.2140e-04\n"
     ]
    },
    {
     "data": {
      "text/plain": [
       "<tensorflow.python.keras.callbacks.History at 0x7fd3287db750>"
      ]
     },
     "execution_count": 7,
     "metadata": {},
     "output_type": "execute_result"
    }
   ],
   "source": [
    "# Fitting the RNN to the training set\n",
    "regressor.fit(x_train, y_train, epochs=45, batch_size=32)"
   ]
  },
  {
   "cell_type": "markdown",
   "metadata": {},
   "source": [
    "## Predicting on New Data and Comparing to What Actually Happened\n",
    "Now that we have used cross validation to identify the best configuration of our model, and we have created and fit our model to the data with our optimized configuraiton, we can pass in the five years of testing data to predict the stock prices for each day in that five year testing period. First we will extract the stock prices and training volumes over the testing period, then we will combine the testing and training stock prices and trading volumes with the previously generated dataset of the other predictor variables. From this combined dataset we can extract the required data for testing, which consists of the 80 days before the testing period, and the entire testing period. Since each prediciton requires the previous 80 days we need the data from the last 80 days of the training period in order to make predicitons on the first 80 days of the testing period."
   ]
  },
  {
   "cell_type": "code",
   "execution_count": 8,
   "metadata": {},
   "outputs": [],
   "source": [
    "# Getting the actual stock prices for the testing period\n",
    "dataset_test = pd.read_csv('test_data/'+company+'_test.csv', index_col=0)\n",
    "act_stock_price = dataset_test.iloc[:, 3:4].values\n",
    "# Adding the actual stock prices and trading volumes for the training and test to the previously generated dataset of other predictor variables\n",
    "dataset_total = pd.concat([pd.concat([dataset_train.iloc[:, np.r_[3:4,5:6]], dataset_test.iloc[:, np.r_[3:4,5:6]]], axis=0), add_all], join='inner', axis=1)\n",
    "# Get the data from 80 days before the first day of the testing period thorugh the end of the testing period (need 80 days before the testing period so we can predict the first 80 days of the testing period)\n",
    "inputs = dataset_total[len(dataset_total)-len(dataset_test)-timestep:].values\n",
    "# Transformingthe inputs to get the same scaling as the fit data\n",
    "inputs = sc.transform(inputs)"
   ]
  },
  {
   "cell_type": "markdown",
   "metadata": {},
   "source": [
    "Next we will perform the same data preparation we completed on the training set in order to format the data such that it can be predicted from."
   ]
  },
  {
   "cell_type": "code",
   "execution_count": 9,
   "metadata": {},
   "outputs": [],
   "source": [
    "# Creating the appropriate datastructure for predicting\n",
    "x_test = []\n",
    "\n",
    "for i in range(timestep, len(inputs)):\n",
    "    x_test.append(inputs[i-timestep:i, :])\n",
    "\n",
    "# Converting data to numpy array\n",
    "x_test = np.array(x_test)\n",
    "\n",
    "# Reshaping the data to the appropriate shape\n",
    "x_test = np.reshape(x_test, (x_test.shape[0], x_test.shape[1], x_test.shape[2]))"
   ]
  },
  {
   "cell_type": "markdown",
   "metadata": {},
   "source": [
    "Finally we can perform predictions on our appropriately formatted testing data and transform it back to the original scale in order to get the predicted stock prices. The additional step of appending an array of zeros to the predicted price before transforming the data back to the original scale is required since the original transformation was done on a larger array we need to provide the same input size in order to be able to complete the back transformation."
   ]
  },
  {
   "cell_type": "code",
   "execution_count": 10,
   "metadata": {},
   "outputs": [],
   "source": [
    "# Making the predictions\n",
    "predicted_stock_price = regressor.predict(x_test)\n",
    "# Adding an array of zeros to provide the correct dimensions for transforming the data back to the original scale\n",
    "predicted_stock_price = np.append(predicted_stock_price, np.zeros(shape=(len(predicted_stock_price), dataset_total.shape[1]-1)), axis=1)\n",
    "# Revert back to the original scale\n",
    "predicted_stock_price = sc.inverse_transform(predicted_stock_price)"
   ]
  },
  {
   "cell_type": "markdown",
   "metadata": {},
   "source": [
    "Now that we have predicted pricing for each day we can plot our predicted stock prices, and the actual stock prices over testing period to see how well our model performs."
   ]
  },
  {
   "cell_type": "code",
   "execution_count": 11,
   "metadata": {},
   "outputs": [
    {
     "data": {
      "image/png": "[encoded data removed]",
      "text/plain": [
       "<Figure size 432x288 with 1 Axes>"
      ]
     },
     "metadata": {
      "needs_background": "light"
     },
     "output_type": "display_data"
    }
   ],
   "source": [
    "# Visualizing the results\n",
    "plt.plot(act_stock_price, color='red', label='Actual TD Stock Price')\n",
    "plt.plot(predicted_stock_price[:,0], color='blue', label='Predicted TD Stock Price')\n",
    "plt.title('TD Stock Price Prediction')\n",
    "plt.xlabel('Date')\n",
    "plt.ylabel('Price')\n",
    "plt.legend()\n",
    "plt.show()"
   ]
  },
  {
   "cell_type": "markdown",
   "metadata": {},
   "source": [
    "From the above plots we can see that the RNN does a reasonable job a predicting the stock price trends and approximate price for the first year, however unfortunately after the first year it fails to predict the approximate price. Interestingly after the first year it continues to predict the general movement trends but fails to predict the magnitude of the movements. Since we can see that this model does a relatively good job of predicting movement trends, but fails to predict the magnitude of the price movements this model could be of some use in predicting the direction of price movement on a day to day basis. Possible alternatives to this model that may perform better are the following:\n",
    "* Modify it to be a binary classificaiton problem that predicts if the price will go up or down\n",
    "* Modify it to refit the model to all data after every year in order to include more recent trends in the model fit\n",
    "* Modify it to predict the price a preset number of days ahead (ex. predict the price two weeks from now)"
   ]
  }
 ],
 "metadata": {
  "kernelspec": {
   "display_name": "Python 3",
   "language": "python",
   "name": "python3"
  },
  "language_info": {
   "codemirror_mode": {
    "name": "ipython",
    "version": 3
   },
   "file_extension": ".py",
   "mimetype": "text/x-python",
   "name": "python",
   "nbconvert_exporter": "python",
   "pygments_lexer": "ipython3",
   "version": "3.7.6"
  }
 },
 "nbformat": 4,
 "nbformat_minor": 4
}
